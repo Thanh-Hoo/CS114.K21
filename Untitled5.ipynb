{
  "nbformat": 4,
  "nbformat_minor": 0,
  "metadata": {
    "colab": {
      "name": "Untitled5.ipynb",
      "provenance": [],
      "collapsed_sections": [],
      "authorship_tag": "ABX9TyPIzpZPrQc8kyFIXxWCSqYG",
      "include_colab_link": true
    },
    "kernelspec": {
      "name": "python3",
      "display_name": "Python 3"
    }
  },
  "cells": [
    {
      "cell_type": "markdown",
      "metadata": {
        "id": "view-in-github",
        "colab_type": "text"
      },
      "source": [
        "<a href=\"https://colab.research.google.com/github/Thanh-Hoo/CS114.K21/blob/master/Untitled5.ipynb\" target=\"_parent\"><img src=\"https://colab.research.google.com/assets/colab-badge.svg\" alt=\"Open In Colab\"/></a>"
      ]
    },
    {
      "cell_type": "code",
      "metadata": {
        "id": "cmTemKAJeE4J",
        "colab_type": "code",
        "colab": {}
      },
      "source": [
        "a = int(input)\n",
        "if abs(a) < 10:\n",
        "    print(11)\n",
        "b = len(a)\n",
        "if b % 2 == 0:\n",
        "    b = b / 2\n"
      ],
      "execution_count": 0,
      "outputs": []
    },
    {
      "cell_type": "code",
      "metadata": {
        "id": "7qIfjr180lC9",
        "colab_type": "code",
        "colab": {}
      },
      "source": [
        "a = \"1234562133\"\n"
      ],
      "execution_count": 0,
      "outputs": []
    }
  ]
}