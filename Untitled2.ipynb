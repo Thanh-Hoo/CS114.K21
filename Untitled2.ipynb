{
  "nbformat": 4,
  "nbformat_minor": 0,
  "metadata": {
    "colab": {
      "name": "Untitled2.ipynb",
      "provenance": [],
      "collapsed_sections": [],
      "authorship_tag": "ABX9TyOguDwpd32M8EXQGXN1HFR+",
      "include_colab_link": true
    },
    "kernelspec": {
      "name": "python3",
      "display_name": "Python 3"
    }
  },
  "cells": [
    {
      "cell_type": "markdown",
      "metadata": {
        "id": "view-in-github",
        "colab_type": "text"
      },
      "source": [
        "<a href=\"https://colab.research.google.com/github/Thanh-Hoo/CS114.K21/blob/master/Untitled2.ipynb\" target=\"_parent\"><img src=\"https://colab.research.google.com/assets/colab-badge.svg\" alt=\"Open In Colab\"/></a>"
      ]
    },
    {
      "cell_type": "code",
      "metadata": {
        "id": "zrc5FSKmnhYi",
        "colab_type": "code",
        "colab": {}
      },
      "source": [
        "matrix = []\n",
        "for _ in range(5):\n",
        "    matrix.append(input().split())\n",
        "for i in range(5):\n",
        "    for j in range(5):\n",
        "        if matrix[i][j] == '1':\n",
        "            x = i\n",
        "            y = j\n",
        "            break\n",
        "\n",
        "print(abs(2-x) + abs(2-y))"
      ],
      "execution_count": 0,
      "outputs": []
    },
    {
      "cell_type": "code",
      "metadata": {
        "id": "N7KyROKUPi2r",
        "colab_type": "code",
        "colab": {}
      },
      "source": [
        "n = int(input())\n",
        "x,y =[int(i) for i in input().split()]"
      ],
      "execution_count": 0,
      "outputs": []
    }
  ]
}